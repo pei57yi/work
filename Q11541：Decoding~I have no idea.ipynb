{
 "cells": [
  {
   "cell_type": "code",
   "execution_count": 2,
   "metadata": {},
   "outputs": [
    {
     "name": "stdout",
     "output_type": "stream",
     "text": [
      "3\n",
      "A2B4D1A2\n",
      "Case 1: AABBBBDAA\n",
      "A12\n",
      "Case 2: A\n",
      "A1B1C1D1\n",
      "Case 3: ABCD\n"
     ]
    }
   ],
   "source": [
    "T = int(input())\n",
    "for j in range(1,T+1):\n",
    "    L =''\n",
    "    st = input()\n",
    "    n = len(st)\n",
    "    new = [st[i:i+2] for i in range(0, n, 2)]\n",
    "    for i in range(n//2):\n",
    "        q = new[i][0] * int(new[i][1])\n",
    "        L = L + q\n",
    "    print(f'Case {j}: ' + L)"
   ]
  },
  {
   "cell_type": "code",
   "execution_count": null,
   "metadata": {},
   "outputs": [],
   "source": [
    "# 不知道如何從字串中直接找出數字\n",
    "# 目前只能擁有限的的位子來分開，所以Case 2無法印出12個A"
   ]
  }
 ],
 "metadata": {
  "kernelspec": {
   "display_name": "Python 3",
   "language": "python",
   "name": "python3"
  },
  "language_info": {
   "codemirror_mode": {
    "name": "ipython",
    "version": 3
   },
   "file_extension": ".py",
   "mimetype": "text/x-python",
   "name": "python",
   "nbconvert_exporter": "python",
   "pygments_lexer": "ipython3",
   "version": "3.7.3"
  }
 },
 "nbformat": 4,
 "nbformat_minor": 2
}
