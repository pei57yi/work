{
 "cells": [
  {
   "cell_type": "code",
   "execution_count": 1,
   "metadata": {},
   "outputs": [
    {
     "name": "stdout",
     "output_type": "stream",
     "text": [
      "新的車牌號碼是：DEI-8089\n"
     ]
    }
   ],
   "source": [
    "from random import randint\n",
    "from random import choice\n",
    "\n",
    "\n",
    "carn = []\n",
    "for i in range(4):\n",
    "    number = randint(0,9)\n",
    "    carn.append(number)\n",
    "    \n",
    "E = ['A','B','C','D','E','F','G','H','I','J','K','L','M','N','O','P','Q','R','S','T','U','V','W','X','Y','Z']\n",
    "\n",
    "carE = []\n",
    "for i in range(3):\n",
    "    English = randint(0,26)\n",
    "    carE.append(E[English])\n",
    "car = str(carE) + \"-\" + str(carn)\n",
    "\n",
    "M = []\n",
    "for item in car:\n",
    "    if (item != \"[\") & (item != \"'\") & (item != \" \") & (item != \",\") & (item != \"]\") :\n",
    "        M.append(item)\n",
    "newM = ''.join(M)\n",
    "print('新的車牌號碼是：' + newM)"
   ]
  },
  {
   "cell_type": "code",
   "execution_count": null,
   "metadata": {},
   "outputs": [],
   "source": []
  }
 ],
 "metadata": {
  "kernelspec": {
   "display_name": "Python 3",
   "language": "python",
   "name": "python3"
  },
  "language_info": {
   "codemirror_mode": {
    "name": "ipython",
    "version": 3
   },
   "file_extension": ".py",
   "mimetype": "text/x-python",
   "name": "python",
   "nbconvert_exporter": "python",
   "pygments_lexer": "ipython3",
   "version": "3.7.3"
  }
 },
 "nbformat": 4,
 "nbformat_minor": 2
}
