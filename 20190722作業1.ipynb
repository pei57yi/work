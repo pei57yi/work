{
 "cells": [
  {
   "cell_type": "code",
   "execution_count": 2,
   "metadata": {},
   "outputs": [
    {
     "name": "stdout",
     "output_type": "stream",
     "text": [
      "請輸入您的姓名陳\n",
      "請輸入您預約的人數5\n",
      "請輸入您的聯絡電話023456781\n",
      "陳 先生/小姐您好!您預約的人數為 5人。我們將撥打您的聯絡電話 23456781 確認預約成功。\n"
     ]
    }
   ],
   "source": [
    "name = input(\"請輸入您的姓名\")\n",
    "person = int(input(\"請輸入您預約的人數\"))\n",
    "phone = int(input(\"請輸入您的聯絡電話\"))\n",
    "print(name + \" 先生/小姐您好!\" + \"您預約的人數為 \" + str(person) + \"人。\" + \"我們將撥打您的聯絡電話 \" + str(phone) + \" 確認預約成功。\")"
   ]
  },
  {
   "cell_type": "code",
   "execution_count": null,
   "metadata": {},
   "outputs": [],
   "source": []
  }
 ],
 "metadata": {
  "kernelspec": {
   "display_name": "Python 3",
   "language": "python",
   "name": "python3"
  },
  "language_info": {
   "codemirror_mode": {
    "name": "ipython",
    "version": 3
   },
   "file_extension": ".py",
   "mimetype": "text/x-python",
   "name": "python",
   "nbconvert_exporter": "python",
   "pygments_lexer": "ipython3",
   "version": "3.7.3"
  }
 },
 "nbformat": 4,
 "nbformat_minor": 2
}
