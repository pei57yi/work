{
 "cells": [
  {
   "cell_type": "markdown",
   "metadata": {},
   "source": [
    "### Q10929: You can say 11\n",
    "你的任務是，給你一個正整數 N，判定它是否是 11 的倍數。\n",
    "\n",
    "#### Input\n",
    "\n",
    "每列資料有一個正整數N，N 最大可能到 1000 位數。\n",
    "\n",
    "若 N = 0 代表輸入結束。\n",
    "\n",
    "#### Output\n",
    "\n",
    "對每個輸入的數，輸出是否為 11 的倍數。輸出格式請參考 Sample Output。\n",
    "\n",
    "#### Sample Input\n",
    "    112233\n",
    "    30800\n",
    "    2937\n",
    "    323455693\n",
    "    5038297\n",
    "    112234\n",
    "    0\n",
    "\n",
    "\t\n",
    "#### Sample Output\n",
    "    112233 is a multiple of 11.\n",
    "    30800 is a multiple of 11.\n",
    "    2937 is a multiple of 11.\n",
    "    323455693 is a multiple of 11.\n",
    "    5038297 is a multiple of 11.\n",
    "    112234 is not a multiple of 11.\n",
    "\n",
    "http://luckycat.kshs.kh.edu.tw/homework/q10929.htm"
   ]
  },
  {
   "cell_type": "code",
   "execution_count": 1,
   "metadata": {},
   "outputs": [
    {
     "name": "stdout",
     "output_type": "stream",
     "text": [
      "112233\n",
      "112233 is a multiple of 11.\n",
      "30800\n",
      "30800 is a multiple of 11.\n",
      "2937\n",
      "2937 is a multiple of 11.\n",
      "323455693\n",
      "323455693 is a multiple of 11.\n",
      "5038297\n",
      "5038297 is a multiple of 11.\n",
      "112234\n",
      "112234 is not a multiple of 11.\n",
      "0\n"
     ]
    }
   ],
   "source": [
    "for N in range(10**(1000-1)):\n",
    "    N = int(input())\n",
    "    if (N==0):\n",
    "        break\n",
    "    elif(N % 11 == 0):\n",
    "        print(str(N) + ' is a multiple of 11.')\n",
    "    else:   \n",
    "        print(str(N) + ' is not a multiple of 11.') "
   ]
  },
  {
   "cell_type": "code",
   "execution_count": null,
   "metadata": {},
   "outputs": [],
   "source": []
  }
 ],
 "metadata": {
  "kernelspec": {
   "display_name": "Python 3",
   "language": "python",
   "name": "python3"
  },
  "language_info": {
   "codemirror_mode": {
    "name": "ipython",
    "version": 3
   },
   "file_extension": ".py",
   "mimetype": "text/x-python",
   "name": "python",
   "nbconvert_exporter": "python",
   "pygments_lexer": "ipython3",
   "version": "3.7.3"
  }
 },
 "nbformat": 4,
 "nbformat_minor": 2
}
