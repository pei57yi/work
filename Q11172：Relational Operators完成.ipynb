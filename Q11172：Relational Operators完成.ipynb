{
 "cells": [
  {
   "cell_type": "markdown",
   "metadata": {},
   "source": [
    "## Q11172: Relational Operators\n",
    "有些運算子（operator）是用來檢查兩個數值之間的關係，這種運算子稱為關係運算子（relational operators）。 給你兩個數值你的工作就是要找出它們之間的關係是(1)第一個大於第二個 (2)第二個小於第一個 (3)兩個一樣大。\n",
    "\n",
    "### Input\n",
    "\n",
    "輸入的第一列有一個整數代表共有多少組測試資料。\n",
    "\n",
    "接下來每列有兩個整數 a 和 b （ |a|,|b| < 1000000001）。\n",
    "### Output\n",
    "\n",
    "對於每組測試資料，輸出，\">\", \"<\" 或 \"=\"，代表該二數字的關係。\n",
    "\n",
    "#### Sample Input\n",
    "    3\n",
    "    10 20\n",
    "    20 10\n",
    "    10 10\n",
    "\n",
    "\t\n",
    "#### Sample Output\n",
    "    <\n",
    "    >\n",
    "    =\n",
    "    \n",
    "    \n",
    "http://luckycat.kshs.kh.edu.tw/homework/q11172.htm"
   ]
  },
  {
   "cell_type": "code",
   "execution_count": 17,
   "metadata": {},
   "outputs": [
    {
     "name": "stdout",
     "output_type": "stream",
     "text": [
      "3\n",
      "10 20\n",
      "<\n",
      "20 10\n",
      ">\n",
      "10 10\n",
      "=\n"
     ]
    }
   ],
   "source": [
    "c = 0\n",
    "c = int(input())\n",
    "Ra = range(-1000000001, 1000000001)\n",
    "Rb = range(-1000000001, 1000000001)\n",
    "\n",
    "while c != 0:\n",
    "    c -= 1\n",
    "    n = input().split()\n",
    "    if a in Ra:\n",
    "        a = int(n[0])\n",
    "    if b in Rb:\n",
    "        b = int(n[1])\n",
    "    if a < b:\n",
    "        print('<')\n",
    "    elif a > b:\n",
    "        print('>')\n",
    "    else:\n",
    "        print('=')"
   ]
  },
  {
   "cell_type": "code",
   "execution_count": null,
   "metadata": {},
   "outputs": [],
   "source": []
  }
 ],
 "metadata": {
  "kernelspec": {
   "display_name": "Python 3",
   "language": "python",
   "name": "python3"
  },
  "language_info": {
   "codemirror_mode": {
    "name": "ipython",
    "version": 3
   },
   "file_extension": ".py",
   "mimetype": "text/x-python",
   "name": "python",
   "nbconvert_exporter": "python",
   "pygments_lexer": "ipython3",
   "version": "3.7.3"
  }
 },
 "nbformat": 4,
 "nbformat_minor": 2
}
