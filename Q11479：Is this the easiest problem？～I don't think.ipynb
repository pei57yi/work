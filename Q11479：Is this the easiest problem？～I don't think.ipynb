{
 "cells": [
  {
   "cell_type": "code",
   "execution_count": 7,
   "metadata": {},
   "outputs": [
    {
     "name": "stdout",
     "output_type": "stream",
     "text": [
      "5\n",
      "1 2 5\n",
      "Case 1: Invalid\n",
      "1 1 1\n",
      "Case 2: Equilateral正三角形\n",
      "4 4 2\n",
      "Case 3: Isosceles等腰三角形\n",
      "3 4 5\n",
      "Case 4: Invalid\n",
      "2147483647 2147483647 2147483647\n",
      "Case 5: Equilateral正三角形\n"
     ]
    }
   ],
   "source": [
    "test = int(input())\n",
    "\n",
    "for i in range(1,test+1):\n",
    "    triangle = input().split()\n",
    "    a = triangle[0]\n",
    "    b = triangle[1]\n",
    "    c = triangle[2]\n",
    "    if (a+b < c) or (a+c < b) or (b+c < a):\n",
    "        print(f'Case {i}: Invalid')\n",
    "    elif (a == b == c):\n",
    "        print(f'Case {i}: Equilateral正三角形')\n",
    "    elif (a == b) or (a == c) or (b == c):\n",
    "        print(f'Case {i}: Isosceles等腰三角形')\n",
    "    elif (a+b > c) and (a+c > b) and (b+c > a):\n",
    "        print(f'Case {i}: Scalene三角形')"
   ]
  },
  {
   "cell_type": "code",
   "execution_count": null,
   "metadata": {},
   "outputs": [],
   "source": [
    "# 不知道為什麼 Case4一直出錯"
   ]
  }
 ],
 "metadata": {
  "kernelspec": {
   "display_name": "Python 3",
   "language": "python",
   "name": "python3"
  },
  "language_info": {
   "codemirror_mode": {
    "name": "ipython",
    "version": 3
   },
   "file_extension": ".py",
   "mimetype": "text/x-python",
   "name": "python",
   "nbconvert_exporter": "python",
   "pygments_lexer": "ipython3",
   "version": "3.7.3"
  }
 },
 "nbformat": 4,
 "nbformat_minor": 2
}
