{
 "cells": [
  {
   "cell_type": "markdown",
   "metadata": {},
   "source": [
    "### Q10071: Back to High School Physics\n",
    "某一個粒子有一初速度和等加速度。假設在 t 秒後此粒子的速度為 v ，請問這個粒子在 2t 秒後所經過的距離是多少。\n",
    "\n",
    "#### Input\n",
    "\n",
    "每組測試資料1列，有2個整數，分別代表 v（-100 <= v <=100）和 t（0 <= t <= 200）。\n",
    "\n",
    "#### Output\n",
    "\n",
    "對每組測試資料請輸出這個粒子在 2t 秒後所經過的距離是多少。\n",
    "\n",
    "#### Sample input\n",
    "\n",
    "0 0\n",
    "\n",
    "5 12\n",
    "\n",
    "#### Sample Output\n",
    "\n",
    "0\n",
    "\n",
    "120"
   ]
  },
  {
   "cell_type": "code",
   "execution_count": 1,
   "metadata": {},
   "outputs": [
    {
     "name": "stdout",
     "output_type": "stream",
     "text": [
      "0 0\n",
      "0\n"
     ]
    }
   ],
   "source": [
    "n = input(\"\").split()\n",
    "\n",
    "for v in range(100,100+1):\n",
    "    v = int(n[0])\n",
    "for t in range(0,200+1):\n",
    "    t = int(n[1])\n",
    "\n",
    "m = int(v) * (int(t)*2)\n",
    "    \n",
    "print(m)"
   ]
  },
  {
   "cell_type": "code",
   "execution_count": 2,
   "metadata": {},
   "outputs": [
    {
     "name": "stdout",
     "output_type": "stream",
     "text": [
      "5 12\n",
      "120\n"
     ]
    }
   ],
   "source": [
    "n = input(\"\").split()\n",
    "\n",
    "for v in range(100,100+1):\n",
    "    v = int(n[0])\n",
    "for t in range(0,200+1):\n",
    "    t = int(n[1])\n",
    "\n",
    "m = int(v) * (int(t)*2)\n",
    "    \n",
    "print(m)"
   ]
  },
  {
   "cell_type": "code",
   "execution_count": null,
   "metadata": {},
   "outputs": [],
   "source": []
  }
 ],
 "metadata": {
  "kernelspec": {
   "display_name": "Python 3",
   "language": "python",
   "name": "python3"
  },
  "language_info": {
   "codemirror_mode": {
    "name": "ipython",
    "version": 3
   },
   "file_extension": ".py",
   "mimetype": "text/x-python",
   "name": "python",
   "nbconvert_exporter": "python",
   "pygments_lexer": "ipython3",
   "version": "3.7.3"
  }
 },
 "nbformat": 4,
 "nbformat_minor": 2
}
